{
 "cells": [
  {
   "cell_type": "code",
   "execution_count": 1,
   "metadata": {},
   "outputs": [
    {
     "name": "stdout",
     "output_type": "stream",
     "text": [
      "You are too old for my jokes!\n"
     ]
    }
   ],
   "source": [
    "age = 11\n",
    "if age >= 10:\n",
    "    print('You are too old for my jokes!')"
   ]
  },
  {
   "cell_type": "code",
   "execution_count": 2,
   "metadata": {},
   "outputs": [
    {
     "name": "stdout",
     "output_type": "stream",
     "text": [
      "You are too old!\n",
      "Why are you here?\n",
      "Why aren't you mowing a lawn or sorting papers?\n"
     ]
    }
   ],
   "source": [
    "age = 25\n",
    "if age > 20:\n",
    "    print('You are too old!')\n",
    "    print('Why are you here?')\n",
    "print('Why aren\\'t you mowing a lawn or sorting papers?')"
   ]
  },
  {
   "cell_type": "code",
   "execution_count": 3,
   "metadata": {},
   "outputs": [
    {
     "name": "stdout",
     "output_type": "stream",
     "text": [
      "I'm not rich!!\n",
      "But I might be later...\n"
     ]
    }
   ],
   "source": [
    "money = 2\n",
    "if money > 1000:\n",
    "    print(\"I'm rich!!\")\n",
    "else:\n",
    "    print(\"I'm not rich!!\")\n",
    "    print(\"But I might be later...\")"
   ]
  },
  {
   "cell_type": "markdown",
   "metadata": {},
   "source": [
    "## Turtle"
   ]
  },
  {
   "cell_type": "markdown",
   "metadata": {},
   "source": [
    "### SquareSpiral"
   ]
  },
  {
   "cell_type": "code",
   "execution_count": 1,
   "metadata": {},
   "outputs": [],
   "source": [
    "import turtle\n",
    "t = turtle.Pen()\n",
    "#t.speed(0)\n",
    "for x in range(100):\n",
    "    t.forward(x)\n",
    "    t.right(92)\n"
   ]
  },
  {
   "cell_type": "markdown",
   "metadata": {},
   "source": [
    "### Square Spiral 2"
   ]
  },
  {
   "cell_type": "code",
   "execution_count": 2,
   "metadata": {},
   "outputs": [],
   "source": [
    "# SquareSpiral2.py\n",
    "import turtle\n",
    "t = turtle.Pen()\n",
    "t.speed(0)\n",
    "for x in range(100):\n",
    "    t.forward(2*x)\n",
    "    t.left(91)\n"
   ]
  },
  {
   "cell_type": "markdown",
   "metadata": {},
   "source": [
    "### CircleSpiral"
   ]
  },
  {
   "cell_type": "code",
   "execution_count": 1,
   "metadata": {},
   "outputs": [],
   "source": [
    "import turtle\n",
    "t = turtle.Pen()\n",
    "t.speed(0)\n",
    "t.color = (\"Blue\")\n",
    "for x in range(100):\n",
    "    t.circle(x)\n",
    "    t.left(60)\n"
   ]
  },
  {
   "cell_type": "code",
   "execution_count": null,
   "metadata": {},
   "outputs": [],
   "source": []
  }
 ],
 "metadata": {
  "kernelspec": {
   "display_name": "Python 3",
   "language": "python",
   "name": "python3"
  },
  "language_info": {
   "codemirror_mode": {
    "name": "ipython",
    "version": 3
   },
   "file_extension": ".py",
   "mimetype": "text/x-python",
   "name": "python",
   "nbconvert_exporter": "python",
   "pygments_lexer": "ipython3",
   "version": "3.7.6"
  }
 },
 "nbformat": 4,
 "nbformat_minor": 4
}
