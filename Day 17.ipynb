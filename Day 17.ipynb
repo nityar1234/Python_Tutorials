{
 "cells": [
  {
   "cell_type": "markdown",
   "metadata": {},
   "source": [
    "Lets start the lesson by remembering about the Basic Python Objects. For example:"
   ]
  },
  {
   "cell_type": "code",
   "execution_count": null,
   "metadata": {},
   "outputs": [],
   "source": [
    "lst = [1,2,3]"
   ]
  },
  {
   "cell_type": "code",
   "execution_count": null,
   "metadata": {},
   "outputs": [],
   "source": [
    "type(lst)"
   ]
  },
  {
   "cell_type": "code",
   "execution_count": null,
   "metadata": {},
   "outputs": [],
   "source": [
    "lst.count(2) # This is a method in the list\n"
   ]
  },
  {
   "cell_type": "code",
   "execution_count": null,
   "metadata": {},
   "outputs": [],
   "source": [
    "lst.pop() # Another example of method in a list"
   ]
  },
  {
   "cell_type": "markdown",
   "metadata": {},
   "source": [
    "## Objects\n",
    "In Python, everything is an object. Remember from previous lectures we can use type() to check the type of object something is:\n",
    "\n"
   ]
  },
  {
   "cell_type": "code",
   "execution_count": null,
   "metadata": {},
   "outputs": [],
   "source": [
    "print(type(1))\n",
    "print(type([]))\n",
    "print(type(()))\n",
    "print(type({}))"
   ]
  },
  {
   "cell_type": "markdown",
   "metadata": {},
   "source": [
    "So we know all these things are objects, so how can we create our own Object types? That is where the class keyword comes in.\n",
    "\n"
   ]
  },
  {
   "cell_type": "markdown",
   "metadata": {},
   "source": [
    "## class"
   ]
  },
  {
   "cell_type": "markdown",
   "metadata": {},
   "source": [
    "User defined objects are created using the class keyword. \n",
    "The class is a blueprint that defines the nature of a future object. \n",
    "From classes we can construct instances. \n",
    "An instance is a specific object created from a particular class.\n",
    "For example, above we created the object lst which was an instance of a list object."
   ]
  },
  {
   "cell_type": "markdown",
   "metadata": {},
   "source": [
    "Let see how we can use class:"
   ]
  },
  {
   "cell_type": "code",
   "execution_count": null,
   "metadata": {},
   "outputs": [],
   "source": [
    "# Create a new object type called Sample\n",
    "class Sample:\n",
    "    pass\n",
    "\n",
    "# Instance of Sample\n",
    "x = Sample()\n",
    "\n",
    "print(type(x))"
   ]
  },
  {
   "cell_type": "markdown",
   "metadata": {},
   "source": [
    "By convention we give classes a name that starts with a capital letter. Note how x is now the reference to our new instance of a Sample class. In other words, we instantiate the Sample class.\n",
    "\n",
    "Inside of the class we currently just have pass. But we can define class attributes and methods.\n",
    "\n",
    "An attribute is a characteristic of an object. A method is an operation we can perform with the object.\n",
    "\n",
    "For example, we can create a class called Dog. An attribute of a dog may be its breed or its name, while a method of a dog may be defined by a .bark() method which returns a sound.\n",
    "\n",
    "Let's get a better understanding of attributes through an example."
   ]
  },
  {
   "cell_type": "markdown",
   "metadata": {},
   "source": [
    "## Attributes"
   ]
  },
  {
   "cell_type": "markdown",
   "metadata": {},
   "source": [
    "The syntax for creating an attribute is:\n",
    "\n",
    "        self.attribute = something\n",
    "\n",
    "There is a special method called:\n",
    "\n",
    "        __init__()\n",
    "\n",
    "This method is used to initialize the attributes of an object. For example:"
   ]
  },
  {
   "cell_type": "code",
   "execution_count": null,
   "metadata": {},
   "outputs": [],
   "source": [
    "class Dog:\n",
    "    def __init__(self,breed):\n",
    "        self.breed = breed\n",
    "        \n",
    "sam = Dog(breed='Lab')\n",
    "frank = Dog(breed='Huskie')"
   ]
  },
  {
   "cell_type": "markdown",
   "metadata": {},
   "source": [
    "Lets break down what we have above.The special method\n",
    "\n",
    "            __init__() \n",
    "is called automatically right after the object has been created:\n",
    "\n",
    "        def __init__(self, breed):\n",
    "Each attribute in a class definition begins with a reference to the instance object. It is by convention named self. The breed is the argument. The value is passed during the class instantiation.\n",
    "\n",
    "         self.breed = breed\n",
    "Now we have created two instances of the Dog class. With two breed types, we can then access these attributes like this:"
   ]
  },
  {
   "cell_type": "code",
   "execution_count": null,
   "metadata": {},
   "outputs": [],
   "source": [
    "sam.breed\n"
   ]
  },
  {
   "cell_type": "code",
   "execution_count": null,
   "metadata": {},
   "outputs": [],
   "source": [
    "frank.breed\n"
   ]
  },
  {
   "cell_type": "code",
   "execution_count": null,
   "metadata": {},
   "outputs": [],
   "source": []
  },
  {
   "cell_type": "markdown",
   "metadata": {},
   "source": [
    "Note how we don't have any parentheses after breed; this is because it is an attribute and doesn't take any arguments.\n",
    "In Python there are also class object attributes. These Class Object Attributes are the same for any instance of the class. \n",
    "For example, we could create the attribute species for the Dog class. \n",
    "Dogs, regardless of their breed, name, or other attributes, will always be mammals. \n",
    "We apply this logic in the following manner:"
   ]
  },
  {
   "cell_type": "code",
   "execution_count": null,
   "metadata": {},
   "outputs": [],
   "source": [
    "class Dog:\n",
    "    \n",
    "    # Class Object Attribute\n",
    "    species = 'mammal'\n",
    "    \n",
    "    def __init__(self,breed,name):\n",
    "        self.breed = breed\n",
    "        self.name = name\n"
   ]
  },
  {
   "cell_type": "code",
   "execution_count": null,
   "metadata": {},
   "outputs": [],
   "source": [
    "sam = Dog('Lab','Sam')\n"
   ]
  },
  {
   "cell_type": "code",
   "execution_count": null,
   "metadata": {},
   "outputs": [],
   "source": [
    "sam.name\n"
   ]
  },
  {
   "cell_type": "code",
   "execution_count": null,
   "metadata": {},
   "outputs": [],
   "source": [
    "sam.breed"
   ]
  },
  {
   "cell_type": "markdown",
   "metadata": {},
   "source": [
    "Note that the Class Object Attribute is defined outside of any methods in the class. \n",
    "Also by convention, we place them first before the init."
   ]
  },
  {
   "cell_type": "code",
   "execution_count": null,
   "metadata": {},
   "outputs": [],
   "source": [
    "sam.species\n"
   ]
  },
  {
   "cell_type": "markdown",
   "metadata": {},
   "source": [
    "## Random Spiral function"
   ]
  },
  {
   "cell_type": "code",
   "execution_count": 2,
   "metadata": {},
   "outputs": [],
   "source": [
    "#RandomSpiralsFunction.py\n",
    "import random\n",
    "import turtle\n",
    "t = turtle.Pen()\n",
    "t.speed(0)\n",
    "turtle.bgcolor(\"black\")\n",
    "colors = [\"red\", \"yellow\", \"blue\", \"green\",\n",
    "          \"orange\", \"purple\", \"white\", \"gray\"]\n",
    "\n",
    "# Define a function to draw random spirals\n",
    "def random_spiral():\n",
    "    t.pencolor(random.choice(colors))  \n",
    "    size = random.randint(10,40)        \n",
    "    x = random.randrange(-turtle.window_width()//2,\n",
    "                         turtle.window_width()//2)\n",
    "    y = random.randrange(-turtle.window_height()//2,\n",
    "                         turtle.window_height()//2)\n",
    "    t.penup()\n",
    "    t.setpos(x,y)\n",
    "    t.pendown()\n",
    "    for m in range(size):\n",
    "        t.forward(m*2)\n",
    "        t.left(91)\n",
    "\n",
    "# Now, use the random_spiral() function to draw spirals!        \n",
    "for n in range(10):\n",
    "    random_spiral()\n",
    "\n"
   ]
  },
  {
   "cell_type": "markdown",
   "metadata": {},
   "source": [
    "## The Smiley Face"
   ]
  },
  {
   "cell_type": "code",
   "execution_count": 1,
   "metadata": {},
   "outputs": [],
   "source": [
    "#RandomSmileys.py\n",
    "import random\n",
    "import turtle\n",
    "t = turtle.Pen()\n",
    "t.speed(0)\n",
    "t.hideturtle()\n",
    "turtle.bgcolor(\"black\")\n",
    "def draw_smiley(x,y):      \n",
    "    t.penup()\n",
    "    t.setpos(x,y)\n",
    "    t.pendown()\n",
    "    # Head\n",
    "    t.pencolor(\"yellow\")\n",
    "    t.fillcolor(\"yellow\")\n",
    "    t.begin_fill()\n",
    "    t.circle(50)\n",
    "    t.end_fill()\n",
    "    # Left eye\n",
    "    t.setpos(x-15, y+60)\n",
    "    t.fillcolor(\"blue\")\n",
    "    t.begin_fill()\n",
    "    t.circle(10)\n",
    "    t.end_fill()\n",
    "    # Right eye\n",
    "    t.setpos(x+15, y+60)\n",
    "    t.begin_fill()\n",
    "    t.circle(10)\n",
    "    t.end_fill()\n",
    "    # Mouth\n",
    "    t.setpos(x-25, y+40)\n",
    "    t.pencolor(\"black\")\n",
    "    t.width(10)\n",
    "    t.goto(x-10, y+20)\n",
    "    t.goto(x+10, y+20)\n",
    "    t.goto(x+25, y+40)\n",
    "    t.width(1)\n",
    "\n",
    "for n in range(10):\n",
    "    x = random.randrange(-turtle.window_width()//2,\n",
    "                         turtle.window_width()//2)\n",
    "    y = random.randrange(-turtle.window_height()//2,\n",
    "                         turtle.window_height()//2)\n",
    "    draw_smiley(x,y)\n",
    "\n",
    "\n",
    "    \n"
   ]
  },
  {
   "cell_type": "code",
   "execution_count": null,
   "metadata": {},
   "outputs": [],
   "source": []
  }
 ],
 "metadata": {
  "kernelspec": {
   "display_name": "Python 3",
   "language": "python",
   "name": "python3"
  },
  "language_info": {
   "codemirror_mode": {
    "name": "ipython",
    "version": 3
   },
   "file_extension": ".py",
   "mimetype": "text/x-python",
   "name": "python",
   "nbconvert_exporter": "python",
   "pygments_lexer": "ipython3",
   "version": "3.7.6"
  }
 },
 "nbformat": 4,
 "nbformat_minor": 4
}
